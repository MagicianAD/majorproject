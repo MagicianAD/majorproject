{
 "cells": [
  {
   "cell_type": "code",
   "execution_count": 31,
   "metadata": {},
   "outputs": [],
   "source": [
    "import numpy as np\n",
    "import pandas as pd\n",
    "from sklearn import preprocessing"
   ]
  },
  {
   "cell_type": "code",
   "execution_count": 45,
   "metadata": {},
   "outputs": [],
   "source": [
    "def rain():\n",
    "    df = pd.read_csv('ff.csv')\n",
    "    df = df[['date', 'AS', 'AW', 'evening', 'morning', 'min', 'max']]\n",
    "    df['AW'] = pd.to_numeric(df['AW'], errors='coerce')\n",
    "    x = df.iloc[:, 2:].values\n",
    "    y = df.iloc[:,1].values\n",
    "    y = y.reshape(-1,1)\n",
    "    from sklearn.preprocessing import Imputer\n",
    "    imputer = Imputer(missing_values='NaN', strategy='mean', axis=0)\n",
    "    imputer = imputer.fit(x[:, :])\n",
    "    x[:, :] = imputer.transform(x[:, :])\n",
    "    # handling missing values on the target value\n",
    "    imputer_y = imputer.fit(y)\n",
    "    y = imputer_y.transform(y).ravel()\n",
    "    from sklearn.model_selection import train_test_split\n",
    "    X_train, X_test, y_train, y_test = train_test_split(x, y, test_size=0.001,random_state=0)\n",
    "    from sklearn.linear_model import LogisticRegression\n",
    "    lab_enc = preprocessing.LabelEncoder()\n",
    "    y_encoded = lab_enc.fit_transform(y_train)\n",
    "    logisticRegression = LogisticRegression()\n",
    "    logisticRegression.fit(X_train,y_encoded)\n",
    "    import datetime\n",
    "    date = datetime.date.today()\n",
    "    df['date'] = pd.to_datetime(df['date'])\n",
    "    df['year'] = pd.DatetimeIndex(df['date']).year\n",
    "    df['month'] = pd.DatetimeIndex(df['date']).month\n",
    "    df['day'] = pd.DatetimeIndex(df['date']).day\n",
    "    today_month = date.month\n",
    "    today_day = date.day\n",
    "    # filter data by day and month\n",
    "    filter_1 = df[df['month'] == today_month]\n",
    "    filter_final = filter_1[filter_1['day'] == today_day]\n",
    "    mean = filter_final.mean(axis=0)\n",
    "    todays_data_for_wind = mean[[ 'AW', 'evening', 'morning', 'min', 'max']]\n",
    "\n",
    "    #filter the data for next 1 day\n",
    "    one_day = date+ datetime.timedelta(days=1)\n",
    "    tomorrow_month = one_day.month\n",
    "    tomorrow_day  = one_day.day\n",
    "    filter_for_tomorrow = df[df['month'] == tomorrow_month]\n",
    "    filter_final_tomorrow = filter_for_tomorrow[filter_for_tomorrow['day'] == tomorrow_day]\n",
    "    mean = filter_final_tomorrow.mean(axis=0)\n",
    "    tomorrow_data_for_wind= mean[['AW', 'evening', 'morning', 'min', 'max']]\n",
    "\n",
    "\n",
    "    # filter the data for the next 2 day\n",
    "    two_day = date + datetime.timedelta(days=2)\n",
    "    the_day_before_tomorrow_month = two_day.month\n",
    "    the_day_before_tomorrow_day = two_day.day\n",
    "    filter_for_after_2_day = df[df['month'] == the_day_before_tomorrow_month]\n",
    "    filter_final_after_2_day = filter_for_after_2_day[filter_for_after_2_day['day'] == the_day_before_tomorrow_day]\n",
    "    tomorrow_mean = filter_final_after_2_day.mean(axis=0)\n",
    "    _2nd_day_data_for_wind = tomorrow_mean[['AW', 'evening', 'morning', 'min', 'max']]\n",
    "\n",
    "    # filter the data for the next 3 day\n",
    "    three_day = date + datetime.timedelta(days=3)\n",
    "    _3_day_before_month = three_day.month\n",
    "    _3_day_before_day= three_day.day\n",
    "    filter_for_after_3_day = df[df['month'] == _3_day_before_month]\n",
    "    filter_final_after_3_day = filter_for_after_3_day[filter_for_after_3_day['day'] == _3_day_before_day]\n",
    "    _3_mean = filter_final_after_3_day.mean(axis=0)\n",
    "    _3nd_day_data_for_wind= _3_mean[['AW', 'evening', 'morning', 'min', 'max']]\n",
    "\n",
    "    # filter the data for the next 2 day\n",
    "    four_day = date + datetime.timedelta(days=4)\n",
    "    _4_day_before_month = four_day.month\n",
    "    _4_day_before_day= four_day.day\n",
    "    filter_for_after_4_day = df[df['month'] == _4_day_before_month]\n",
    "    filter_final_after_4_day = filter_for_after_4_day[filter_for_after_4_day['day'] == _4_day_before_day]\n",
    "    _4_mean = filter_final_after_4_day.mean(axis=0)\n",
    "    _4nd_day_data_for_wind = _4_mean[['AW', 'evening', 'morning', 'min', 'max']]\n",
    "\n",
    "\n",
    "    return (logisticRegression.predict(np.array([todays_data_for_wind])),\n",
    "            logisticRegression.predict(np.array([tomorrow_data_for_wind])),\n",
    "            logisticRegression.predict(np.array([_2nd_day_data_for_wind])),\n",
    "            logisticRegression.predict(np.array([_3nd_day_data_for_wind])),\n",
    "            logisticRegression.predict(np.array([_4nd_day_data_for_wind])),\n",
    "            )\n",
    "    "
   ]
  },
  {
   "cell_type": "code",
   "execution_count": 46,
   "metadata": {},
   "outputs": [
    {
     "name": "stderr",
     "output_type": "stream",
     "text": [
      "c:\\users\\dipendra\\appdata\\local\\programs\\python\\python37-32\\lib\\site-packages\\sklearn\\utils\\deprecation.py:66: DeprecationWarning: Class Imputer is deprecated; Imputer was deprecated in version 0.20 and will be removed in 0.22. Import impute.SimpleImputer from sklearn instead.\n",
      "  warnings.warn(msg, category=DeprecationWarning)\n",
      "c:\\users\\dipendra\\appdata\\local\\programs\\python\\python37-32\\lib\\site-packages\\sklearn\\linear_model\\logistic.py:432: FutureWarning: Default solver will be changed to 'lbfgs' in 0.22. Specify a solver to silence this warning.\n",
      "  FutureWarning)\n",
      "c:\\users\\dipendra\\appdata\\local\\programs\\python\\python37-32\\lib\\site-packages\\sklearn\\linear_model\\logistic.py:469: FutureWarning: Default multi_class will be changed to 'auto' in 0.22. Specify the multi_class option to silence this warning.\n",
      "  \"this warning.\", FutureWarning)\n"
     ]
    },
    {
     "name": "stdout",
     "output_type": "stream",
     "text": [
      "(array([0], dtype=int32), array([0], dtype=int32), array([0], dtype=int32), array([0], dtype=int32), array([0], dtype=int32))\n"
     ]
    }
   ],
   "source": [
    "print(rain())"
   ]
  },
  {
   "cell_type": "code",
   "execution_count": null,
   "metadata": {},
   "outputs": [],
   "source": []
  }
 ],
 "metadata": {
  "kernelspec": {
   "display_name": "Python 3",
   "language": "python",
   "name": "python3"
  },
  "language_info": {
   "codemirror_mode": {
    "name": "ipython",
    "version": 3
   },
   "file_extension": ".py",
   "mimetype": "text/x-python",
   "name": "python",
   "nbconvert_exporter": "python",
   "pygments_lexer": "ipython3",
   "version": "3.7.3"
  }
 },
 "nbformat": 4,
 "nbformat_minor": 2
}
